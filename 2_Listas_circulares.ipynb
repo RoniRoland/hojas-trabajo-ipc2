{
  "nbformat": 4,
  "nbformat_minor": 0,
  "metadata": {
    "colab": {
      "provenance": []
    },
    "kernelspec": {
      "name": "python3",
      "display_name": "Python 3"
    },
    "language_info": {
      "name": "python"
    }
  },
  "cells": [
    {
      "cell_type": "markdown",
      "source": [
        "## **LISTAS CIRCULARES** \n",
        "\n",
        "**Definicion de la clase Receta**"
      ],
      "metadata": {
        "id": "_NnjGQ89ydBc"
      }
    },
    {
      "cell_type": "code",
      "execution_count": 22,
      "metadata": {
        "id": "3d13uOmByMTb"
      },
      "outputs": [],
      "source": [
        "class receta:\n",
        "    def __init__(self, paciente, fecha_nac, doctor, colegiado, fecha_cita, hora_cita, tipo_consulta, tratamiento):\n",
        "        self.paciente = paciente\n",
        "        self.fecha_nac = fecha_nac\n",
        "        self.doctor = doctor\n",
        "        self.colegiado = colegiado\n",
        "        self.fecha_cita = fecha_cita\n",
        "        self.hora_cita = hora_cita\n",
        "        self.tipo_consulta = tipo_consulta\n",
        "        self.tratamiento = tratamiento"
      ]
    },
    {
      "cell_type": "markdown",
      "source": [
        "**Definicion de la clase Nodo**"
      ],
      "metadata": {
        "id": "Uze3BxO3ylCV"
      }
    },
    {
      "cell_type": "code",
      "source": [
        "class nodo:\n",
        "    def __init__(self, receta=None, siguiente=None):\n",
        "        self.receta = receta\n",
        "        self.siguiente = siguiente"
      ],
      "metadata": {
        "id": "EH0FWH6jyqg0"
      },
      "execution_count": 23,
      "outputs": []
    },
    {
      "cell_type": "markdown",
      "source": [
        "**Definicion de la clase lista circular**"
      ],
      "metadata": {
        "id": "5mdDET20ywYl"
      }
    },
    {
      "cell_type": "code",
      "source": [
        "class lista_circular:\n",
        "    def __init__(self):\n",
        "        self.primero = None\n",
        "        \n",
        "    def insertar(self, receta):\n",
        "      if self.primero is None:\n",
        "        self.primero = nodo(receta = receta)\n",
        "        self.primero.siguiente = self.primero\n",
        "      else:\n",
        "        actual = nodo(receta=receta, siguiente=self.primero.siguiente)\n",
        "        self.primero.siguiente = actual\n",
        "\n",
        "    def recorrer(self):\n",
        "      if self.primero is None:\n",
        "        return\n",
        "      actual = self.primero\n",
        "      print(\"Paciente: \", actual.receta.paciente, \"| Fecha de nacimiento: \", actual.receta.fecha_nac, \"| Doctor: \", actual.receta.doctor, \"| Colegiado: \", actual.receta.colegiado, \"| Fecha de cita: \", actual.receta.fecha_cita, \"| Hora cita: \", actual.receta.hora_cita, \"| Tipo de consulta: \", actual.receta.tipo_consulta, \"| Tratamiento: \", actual.receta.tratamiento)\n",
        "      while actual.siguiente != self.primero:\n",
        "        actual = actual.siguiente\n",
        "        print(\"Paciente: \", actual.receta.paciente, \"| Fecha de nacimiento: \", actual.receta.fecha_nac, \"| Doctor: \", actual.receta.doctor, \"| Colegiado: \", actual.receta.colegiado, \"| Fecha de cita: \", actual.receta.fecha_cita, \"| Hora cita: \", actual.receta.hora_cita, \"| Tipo de consulta: \", actual.receta.tipo_consulta, \"| Tratamiento: \", actual.receta.tratamiento)\n",
        "\n",
        "    def eliminar(self, colegiado, fecha_cita, hora_cita):\n",
        "        actual = self.primero\n",
        "        anterior = None\n",
        "        no_encontrado = False\n",
        "\n",
        "        while actual != None and actual.receta.colegiado != colegiado and actual.receta.fecha_cita != fecha_cita and actual.receta.hora_cita != hora_cita:\n",
        "          anterior = actual\n",
        "          actual = actual.siguiente\n",
        "\n",
        "          if actual == self.primero:\n",
        "            no_encontrado = True\n",
        "            print(\"No encontrado\")\n",
        "            break\n",
        "        \n",
        "        if not no_encontrado:\n",
        "          if anterior is not None:\n",
        "            anterior.siguiente = actual.siguiente\n",
        "            actual.siguiente = None\n",
        "          else:\n",
        "            while actual.siguiente != self.primero:\n",
        "              actual = actual.siguiente\n",
        "            actual.siguiente = self.primero.siguiente\n",
        "            self.primero = self.primero.siguiente  \n",
        "\n",
        "    #Hoja de trabajo - buscar y modificar\n",
        "    def buscar_modificar(self, paciente, fecha_cita, hora_cita):\n",
        "      actual = self.primero\n",
        "      encontrado = False\n",
        "      while actual:\n",
        "        if actual.receta.paciente == paciente:\n",
        "          encontrado = True\n",
        "          actual.receta.fecha_cita = fecha_cita \n",
        "          actual.receta.hora_cita = hora_cita\n",
        "          print(\"Paciente: \", actual.receta.paciente, \"| Fecha de cita: \", actual.receta.fecha_cita, \"| Hora cita: \", actual.receta.hora_cita)\n",
        "        actual = actual.siguiente\n",
        "        if actual == self.primero:\n",
        "          break\n",
        "      if encontrado:\n",
        "        print('Dato encontrado y actualizado')\n",
        "      else:\n",
        "        print('Dato no encontrado')\n"
      ],
      "metadata": {
        "id": "5x9-nx0hyyAW"
      },
      "execution_count": 24,
      "outputs": []
    },
    {
      "cell_type": "markdown",
      "source": [
        "**Creacion de objetos Receta**"
      ],
      "metadata": {
        "id": "nlKLkNHdy0xy"
      }
    },
    {
      "cell_type": "code",
      "source": [
        "r1 = receta(\"Gerson Lopez\", \"03-10-1990\", \"Melvin Ortiz\", 20156, \"17-01-2023\", \"11:30\", \"Medicina general\", \"2 pildroas de acetaminofen cada 6 horas\")\n",
        "r2 = receta(\"Karen Gomez\", \"08-05-2000\", \"Jorge Merida\", 8567, \"31-01-2023\", \"09:00\", \"Medicina general\", \"Tylenol de 20 ml cada 4 horas\")\n",
        "r3 = receta(\"Luis Garcia\", \"17-09-1987\", \"Melvin Ortiz\", 20156, \"02-02-2023\", \"12:00\", \"Medicina general\", \"2 cucharadas de Pepto bismol\")"
      ],
      "metadata": {
        "id": "U2eNhhpcy2o9"
      },
      "execution_count": 25,
      "outputs": []
    },
    {
      "cell_type": "markdown",
      "source": [
        "**Insercion**"
      ],
      "metadata": {
        "id": "LqWL-GTfy43C"
      }
    },
    {
      "cell_type": "code",
      "source": [
        "lista_c = lista_circular()\n",
        "lista_c.insertar(r1)\n",
        "lista_c.insertar(r2)\n",
        "lista_c.insertar(r3)"
      ],
      "metadata": {
        "id": "F94HFnVdy9CX"
      },
      "execution_count": 26,
      "outputs": []
    },
    {
      "cell_type": "markdown",
      "source": [
        "**Recorrer**"
      ],
      "metadata": {
        "id": "_M6LSiaFy6rp"
      }
    },
    {
      "cell_type": "code",
      "source": [
        "lista_c.recorrer()"
      ],
      "metadata": {
        "colab": {
          "base_uri": "https://localhost:8080/"
        },
        "id": "Ys77jwoNxBIq",
        "outputId": "c789b67b-152f-46fe-c301-c2f860f3bc6a"
      },
      "execution_count": 27,
      "outputs": [
        {
          "output_type": "stream",
          "name": "stdout",
          "text": [
            "Paciente:  Gerson Lopez | Fecha de nacimiento:  03-10-1990 | Doctor:  Melvin Ortiz | Colegiado:  20156 | Fecha de cita:  17-01-2023 | Hora cita:  11:30 | Tipo de consulta:  Medicina general | Tratamiento:  2 pildroas de acetaminofen cada 6 horas\n",
            "Paciente:  Luis Garcia | Fecha de nacimiento:  17-09-1987 | Doctor:  Melvin Ortiz | Colegiado:  20156 | Fecha de cita:  02-02-2023 | Hora cita:  12:00 | Tipo de consulta:  Medicina general | Tratamiento:  2 cucharadas de Pepto bismol\n",
            "Paciente:  Karen Gomez | Fecha de nacimiento:  08-05-2000 | Doctor:  Jorge Merida | Colegiado:  8567 | Fecha de cita:  31-01-2023 | Hora cita:  09:00 | Tipo de consulta:  Medicina general | Tratamiento:  Tylenol de 20 ml cada 4 horas\n"
          ]
        }
      ]
    },
    {
      "cell_type": "markdown",
      "source": [
        "**Eliminar un nodo de la lista**"
      ],
      "metadata": {
        "id": "5W6m2mIToV3R"
      }
    },
    {
      "cell_type": "code",
      "source": [
        "lista_c.eliminar(8567,\"31-01-2023\",\"09:00\")\n",
        "lista_c.recorrer()"
      ],
      "metadata": {
        "colab": {
          "base_uri": "https://localhost:8080/"
        },
        "id": "j0VdJiH3oYQk",
        "outputId": "75b338bf-aacf-413c-8cf2-fa7b9ac9b513"
      },
      "execution_count": 17,
      "outputs": [
        {
          "output_type": "stream",
          "name": "stdout",
          "text": [
            "Paciente:  Gerson Lopez | Fecha de nacimiento:  03-10-1990 | Doctor:  Melvin Ortiz | Colegiado:  20156 | Fecha de cita:  17-01-2023 | Hora cita:  11:30 | Tipo de consulta:  Medicina general | Tratamiento:  2 pildroas de acetaminofen cada 6 horas\n",
            "Paciente:  Luis Garcia | Fecha de nacimiento:  17-09-1987 | Doctor:  Melvin Ortiz | Colegiado:  20156 | Fecha de cita:  02-02-2023 | Hora cita:  12:00 | Tipo de consulta:  Medicina general | Tratamiento:  2 cucharadas de Pepto bismol\n"
          ]
        }
      ]
    },
    {
      "cell_type": "code",
      "source": [
        "lista_c.eliminar(20156,\"17-01-2023\",\"11:30\")\n",
        "lista_c.recorrer()"
      ],
      "metadata": {
        "colab": {
          "base_uri": "https://localhost:8080/"
        },
        "id": "cI5vPpAlomJX",
        "outputId": "6e6c0088-3c85-4417-9d40-0658992647b1"
      },
      "execution_count": 18,
      "outputs": [
        {
          "output_type": "stream",
          "name": "stdout",
          "text": [
            "Paciente:  Luis Garcia | Fecha de nacimiento:  17-09-1987 | Doctor:  Melvin Ortiz | Colegiado:  20156 | Fecha de cita:  02-02-2023 | Hora cita:  12:00 | Tipo de consulta:  Medicina general | Tratamiento:  2 cucharadas de Pepto bismol\n"
          ]
        }
      ]
    },
    {
      "cell_type": "markdown",
      "source": [
        "**Hoja buscar y modificar**"
      ],
      "metadata": {
        "id": "PYLqNGoNm8xZ"
      }
    },
    {
      "cell_type": "code",
      "source": [
        "lista_c.buscar_modificar(\"Diego Perez\",\"25-12-2015\",\"19:30\")"
      ],
      "metadata": {
        "colab": {
          "base_uri": "https://localhost:8080/"
        },
        "id": "9MsG6eGnnBzQ",
        "outputId": "67b95fbb-a5f1-4cbc-bd07-dce0258f26ec"
      },
      "execution_count": 28,
      "outputs": [
        {
          "output_type": "stream",
          "name": "stdout",
          "text": [
            "Dato no encontrado\n"
          ]
        }
      ]
    },
    {
      "cell_type": "code",
      "source": [
        "lista_c.buscar_modificar(\"Karen Gomez\",\"25-12-2035\",\"19:30\")"
      ],
      "metadata": {
        "colab": {
          "base_uri": "https://localhost:8080/"
        },
        "id": "pb2ynd7HnN_9",
        "outputId": "ad133a69-e257-4389-d5b9-3a9a7f5bff2f"
      },
      "execution_count": 29,
      "outputs": [
        {
          "output_type": "stream",
          "name": "stdout",
          "text": [
            "Paciente:  Karen Gomez | Fecha de cita:  25-12-2035 | Hora cita:  19:30\n",
            "Dato encontrado y actualizado\n"
          ]
        }
      ]
    },
    {
      "cell_type": "code",
      "source": [
        "lista_c.recorrer()"
      ],
      "metadata": {
        "colab": {
          "base_uri": "https://localhost:8080/"
        },
        "id": "0TDiTz2mnYXC",
        "outputId": "e3971313-b710-4797-f25e-2fc2c0844035"
      },
      "execution_count": 30,
      "outputs": [
        {
          "output_type": "stream",
          "name": "stdout",
          "text": [
            "Paciente:  Gerson Lopez | Fecha de nacimiento:  03-10-1990 | Doctor:  Melvin Ortiz | Colegiado:  20156 | Fecha de cita:  17-01-2023 | Hora cita:  11:30 | Tipo de consulta:  Medicina general | Tratamiento:  2 pildroas de acetaminofen cada 6 horas\n",
            "Paciente:  Luis Garcia | Fecha de nacimiento:  17-09-1987 | Doctor:  Melvin Ortiz | Colegiado:  20156 | Fecha de cita:  02-02-2023 | Hora cita:  12:00 | Tipo de consulta:  Medicina general | Tratamiento:  2 cucharadas de Pepto bismol\n",
            "Paciente:  Karen Gomez | Fecha de nacimiento:  08-05-2000 | Doctor:  Jorge Merida | Colegiado:  8567 | Fecha de cita:  25-12-2035 | Hora cita:  19:30 | Tipo de consulta:  Medicina general | Tratamiento:  Tylenol de 20 ml cada 4 horas\n"
          ]
        }
      ]
    }
  ]
}