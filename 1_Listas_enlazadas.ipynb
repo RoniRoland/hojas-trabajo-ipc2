{
  "nbformat": 4,
  "nbformat_minor": 0,
  "metadata": {
    "colab": {
      "provenance": []
    },
    "kernelspec": {
      "name": "python3",
      "display_name": "Python 3"
    },
    "language_info": {
      "name": "python"
    }
  },
  "cells": [
    {
      "cell_type": "markdown",
      "source": [
        "## **LISTAS ENLAZADAS** \n",
        "\n",
        "**Definicion de la clase Receta**"
      ],
      "metadata": {
        "id": "Agd85yadhy0P"
      }
    },
    {
      "cell_type": "code",
      "execution_count": 408,
      "metadata": {
        "id": "eGTo4q4FhTyu"
      },
      "outputs": [],
      "source": [
        "class receta:\n",
        "    def __init__(self, paciente, fecha_nac, doctor, colegiado, fecha_cita, hora_cita, tipo_consulta, tratamiento):\n",
        "        self.paciente = paciente\n",
        "        self.fecha_nac = fecha_nac\n",
        "        self.doctor = doctor\n",
        "        self.colegiado = colegiado\n",
        "        self.fecha_cita = fecha_cita\n",
        "        self.hora_cita = hora_cita\n",
        "        self.tipo_consulta = tipo_consulta\n",
        "        self.tratamiento = tratamiento"
      ]
    },
    {
      "cell_type": "markdown",
      "source": [
        "**Definicion de la clase Nodo**\n",
        "\n",
        "\n"
      ],
      "metadata": {
        "id": "S7UkMVViljf_"
      }
    },
    {
      "cell_type": "code",
      "source": [
        "class nodo:\n",
        "    def __init__(self, receta=None, siguiente=None):\n",
        "        self.receta = receta\n",
        "        self.siguiente = siguiente"
      ],
      "metadata": {
        "id": "FxDbzTGqlr1w"
      },
      "execution_count": 409,
      "outputs": []
    },
    {
      "cell_type": "markdown",
      "source": [
        "**Definicon de la clase lista Enlazada**"
      ],
      "metadata": {
        "id": "7QD8FWuWqRCT"
      }
    },
    {
      "cell_type": "code",
      "source": [
        "class lista_enlazada:\n",
        "    def __init__(self):\n",
        "        self.primero = None\n",
        "        \n",
        "    def insertar(self, receta):\n",
        "      if self.primero is None:\n",
        "        self.primero = nodo(receta = receta)\n",
        "        return\n",
        "      actual = self.primero\n",
        "      while actual.siguiente:\n",
        "        actual = actual.siguiente\n",
        "      actual.siguiente = nodo(receta = receta) \n",
        "\n",
        "    def recorrer(self):\n",
        "      actual = self.primero\n",
        "      while actual != None:\n",
        "        print(\"Paciente: \", actual.receta.paciente, \"| Fecha de nacimiento: \", actual.receta.fecha_nac, \"| Doctor: \", actual.receta.doctor, \"| Colegiado: \", actual.receta.colegiado, \"| Fecha de cita: \", actual.receta.fecha_cita, \"| Hora cita: \", actual.receta.hora_cita, \"| Tipo de consulta: \", actual.receta.tipo_consulta, \"| Tratamiento: \", actual.receta.tratamiento)\n",
        "        actual = actual.siguiente\n",
        "\n",
        "    def eliminar(self, colegiado, fecha_cita, hora_cita):\n",
        "      actual = self.primero\n",
        "      anterior = None\n",
        "\n",
        "      while actual and actual.receta.colegiado != colegiado and actual.receta.fecha_cita != fecha_cita and actual.receta.hora_cita != hora_cita: #tambien se puede poner while actual != None\n",
        "        anterior = actual\n",
        "        actual = actual.siguiente\n",
        "\n",
        "      if anterior is None:\n",
        "        self.primero = actual.siguiente    \n",
        "        actual.siguiente = None      \n",
        "      elif actual:\n",
        "        anterior.siguiente = actual.siguiente\n",
        "        actual.siguiente = None\n",
        "\n",
        "    #Hoja de trabajo - buscar y modificar\n",
        "    def buscar_modificar(self, paciente, fecha_cita, hora_cita):\n",
        "      actual = self.primero\n",
        "      encontrado = False\n",
        "      while actual and not encontrado:\n",
        "        if actual.receta.paciente == paciente:\n",
        "          encontrado = True\n",
        "          actual.receta.fecha_cita = fecha_cita \n",
        "          actual.receta.hora_cita = hora_cita\n",
        "          print('Dato encontrado y actualizado')\n",
        "          print(\"Paciente: \", actual.receta.paciente, \"| Fecha de cita: \", actual.receta.fecha_cita, \"| Hora cita: \", actual.receta.hora_cita)\n",
        "        else:\n",
        "          actual = actual.siguiente\n",
        "  \n",
        "      if not encontrado:\n",
        "        print('Dato no encontrado')\n"
      ],
      "metadata": {
        "id": "jCfEp30EqU_N"
      },
      "execution_count": 417,
      "outputs": []
    },
    {
      "cell_type": "markdown",
      "source": [
        "**Creacion de objetos Receta**"
      ],
      "metadata": {
        "id": "-0eLRjmVxzU9"
      }
    },
    {
      "cell_type": "code",
      "source": [
        "r1 = receta(\"Gerson Lopez\", \"03-10-1990\", \"Melvin Ortiz\", 20156, \"17-01-2023\", \"11:30\", \"Medicina general\", \"2 pildroas de acetaminofen cada 6 horas\")\n",
        "r2 = receta(\"Karen Gomez\", \"08-05-2000\", \"Jorge Merida\", 8567, \"31-01-2023\", \"09:00\", \"Medicina general\", \"Tylenol de 20 ml cada 4 horas\")\n",
        "r3 = receta(\"Luis Garcia\", \"17-09-1987\", \"Melvin Ortiz\", 20156, \"02-02-2023\", \"12:00\", \"Medicina general\", \"2 cucharadas de Pepto bismol\")\n"
      ],
      "metadata": {
        "id": "QLn9iJp9x2QF"
      },
      "execution_count": 418,
      "outputs": []
    },
    {
      "cell_type": "markdown",
      "source": [
        "**Insercion**"
      ],
      "metadata": {
        "id": "jXyvgmhNyxb6"
      }
    },
    {
      "cell_type": "code",
      "source": [
        "lista_e = lista_enlazada()\n",
        "lista_e.insertar(r1)\n",
        "lista_e.insertar(r2)\n",
        "lista_e.insertar(r3)"
      ],
      "metadata": {
        "id": "mlWesVRxyzRv"
      },
      "execution_count": 419,
      "outputs": []
    },
    {
      "cell_type": "markdown",
      "source": [
        "**Recorrer**"
      ],
      "metadata": {
        "id": "PRX3DM6s-Y1T"
      }
    },
    {
      "cell_type": "code",
      "source": [
        "lista_e.recorrer()"
      ],
      "metadata": {
        "colab": {
          "base_uri": "https://localhost:8080/"
        },
        "id": "BvQQqKU1-azb",
        "outputId": "78ddca9b-8f99-4b5c-a331-4c509268a4a9"
      },
      "execution_count": 420,
      "outputs": [
        {
          "output_type": "stream",
          "name": "stdout",
          "text": [
            "Paciente:  Gerson Lopez | Fecha de nacimiento:  03-10-1990 | Doctor:  Melvin Ortiz | Colegiado:  20156 | Fecha de cita:  17-01-2023 | Hora cita:  11:30 | Tipo de consulta:  Medicina general | Tratamiento:  2 pildroas de acetaminofen cada 6 horas\n",
            "Paciente:  Karen Gomez | Fecha de nacimiento:  08-05-2000 | Doctor:  Jorge Merida | Colegiado:  8567 | Fecha de cita:  31-01-2023 | Hora cita:  09:00 | Tipo de consulta:  Medicina general | Tratamiento:  Tylenol de 20 ml cada 4 horas\n",
            "Paciente:  Luis Garcia | Fecha de nacimiento:  17-09-1987 | Doctor:  Melvin Ortiz | Colegiado:  20156 | Fecha de cita:  02-02-2023 | Hora cita:  12:00 | Tipo de consulta:  Medicina general | Tratamiento:  2 cucharadas de Pepto bismol\n"
          ]
        }
      ]
    },
    {
      "cell_type": "markdown",
      "source": [
        "**Eliminar**"
      ],
      "metadata": {
        "id": "rrOHizxBOojL"
      }
    },
    {
      "cell_type": "code",
      "source": [
        "lista_e.eliminar(20156,\"17-01-2023\",\"11:30\")"
      ],
      "metadata": {
        "id": "8otwqK-fOsGe"
      },
      "execution_count": 191,
      "outputs": []
    },
    {
      "cell_type": "code",
      "source": [
        "lista_e.recorrer()"
      ],
      "metadata": {
        "colab": {
          "base_uri": "https://localhost:8080/"
        },
        "id": "S1g3VgblRswt",
        "outputId": "3ebcac17-e167-496e-e299-be6f76736c38"
      },
      "execution_count": 193,
      "outputs": [
        {
          "output_type": "stream",
          "name": "stdout",
          "text": [
            "Paciente:  Karen Gomez | Fecha de nacimiento:  08-05-2000 | Doctor:  Jorge Merida | Colegiado:  8567 | Fecha de cita:  31-01-2023 | Hora cita:  09:00 | Tipo de consulta:  Medicina general | Tratamiento:  Tylenol de 20 ml cada 4 horas\n",
            "Paciente:  Luis Garcia | Fecha de nacimiento:  17-09-1987 | Doctor:  Melvin Ortiz | Colegiado:  20156 | Fecha de cita:  02-02-2023 | Hora cita:  12:00 | Tipo de consulta:  Medicina general | Tratamiento:  2 cucharadas de Pepto bismol\n"
          ]
        }
      ]
    },
    {
      "cell_type": "markdown",
      "source": [
        "**hoja no.3** ----- **Buscar y modificar**"
      ],
      "metadata": {
        "id": "R-eVo5wt2Pbr"
      }
    },
    {
      "cell_type": "markdown",
      "source": [
        "**Dato no encontrado en la funcion buscar_modificar**"
      ],
      "metadata": {
        "id": "rfbTxNtYCnMA"
      }
    },
    {
      "cell_type": "code",
      "source": [
        "lista_e.buscar_modificar(\"Diego Perez\",\"25-12-2015\",\"19:30\")"
      ],
      "metadata": {
        "colab": {
          "base_uri": "https://localhost:8080/"
        },
        "id": "hFW_hf_NR4z8",
        "outputId": "60f62e3d-ff9a-4ae9-8a56-ee63a9d5bf4d"
      },
      "execution_count": 421,
      "outputs": [
        {
          "output_type": "stream",
          "name": "stdout",
          "text": [
            "Dato no encontrado\n"
          ]
        }
      ]
    },
    {
      "cell_type": "code",
      "source": [
        "lista_e.recorrer()"
      ],
      "metadata": {
        "colab": {
          "base_uri": "https://localhost:8080/"
        },
        "id": "-Fs4eIL2hvhK",
        "outputId": "a613e354-7325-473a-aeda-05c21d7492ed"
      },
      "execution_count": 422,
      "outputs": [
        {
          "output_type": "stream",
          "name": "stdout",
          "text": [
            "Paciente:  Gerson Lopez | Fecha de nacimiento:  03-10-1990 | Doctor:  Melvin Ortiz | Colegiado:  20156 | Fecha de cita:  17-01-2023 | Hora cita:  11:30 | Tipo de consulta:  Medicina general | Tratamiento:  2 pildroas de acetaminofen cada 6 horas\n",
            "Paciente:  Karen Gomez | Fecha de nacimiento:  08-05-2000 | Doctor:  Jorge Merida | Colegiado:  8567 | Fecha de cita:  31-01-2023 | Hora cita:  09:00 | Tipo de consulta:  Medicina general | Tratamiento:  Tylenol de 20 ml cada 4 horas\n",
            "Paciente:  Luis Garcia | Fecha de nacimiento:  17-09-1987 | Doctor:  Melvin Ortiz | Colegiado:  20156 | Fecha de cita:  02-02-2023 | Hora cita:  12:00 | Tipo de consulta:  Medicina general | Tratamiento:  2 cucharadas de Pepto bismol\n"
          ]
        }
      ]
    },
    {
      "cell_type": "markdown",
      "source": [
        "**Dato encontrado en la funcion buscar_modificar**"
      ],
      "metadata": {
        "id": "kOLW92J1Curk"
      }
    },
    {
      "cell_type": "code",
      "source": [
        "lista_e.buscar_modificar(\"Karen Gomez\",\"25-12-2035\",\"19:30\")"
      ],
      "metadata": {
        "colab": {
          "base_uri": "https://localhost:8080/"
        },
        "id": "wZ1XYcwYm-Wu",
        "outputId": "30b7d1b4-8923-4d00-f61a-984f960a61e2"
      },
      "execution_count": 423,
      "outputs": [
        {
          "output_type": "stream",
          "name": "stdout",
          "text": [
            "Dato encontrado y actualizado\n",
            "Paciente:  Karen Gomez | Fecha de cita:  25-12-2035 | Hora cita:  19:30\n"
          ]
        }
      ]
    },
    {
      "cell_type": "code",
      "source": [
        "lista_e.recorrer()"
      ],
      "metadata": {
        "colab": {
          "base_uri": "https://localhost:8080/"
        },
        "id": "QcW0ZmT9nAwY",
        "outputId": "a57f1215-56f7-42e8-930a-a096494fbd8f"
      },
      "execution_count": 424,
      "outputs": [
        {
          "output_type": "stream",
          "name": "stdout",
          "text": [
            "Paciente:  Gerson Lopez | Fecha de nacimiento:  03-10-1990 | Doctor:  Melvin Ortiz | Colegiado:  20156 | Fecha de cita:  17-01-2023 | Hora cita:  11:30 | Tipo de consulta:  Medicina general | Tratamiento:  2 pildroas de acetaminofen cada 6 horas\n",
            "Paciente:  Karen Gomez | Fecha de nacimiento:  08-05-2000 | Doctor:  Jorge Merida | Colegiado:  8567 | Fecha de cita:  25-12-2035 | Hora cita:  19:30 | Tipo de consulta:  Medicina general | Tratamiento:  Tylenol de 20 ml cada 4 horas\n",
            "Paciente:  Luis Garcia | Fecha de nacimiento:  17-09-1987 | Doctor:  Melvin Ortiz | Colegiado:  20156 | Fecha de cita:  02-02-2023 | Hora cita:  12:00 | Tipo de consulta:  Medicina general | Tratamiento:  2 cucharadas de Pepto bismol\n"
          ]
        }
      ]
    }
  ]
}