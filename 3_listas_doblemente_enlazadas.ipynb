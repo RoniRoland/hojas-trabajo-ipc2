{
  "nbformat": 4,
  "nbformat_minor": 0,
  "metadata": {
    "colab": {
      "provenance": []
    },
    "kernelspec": {
      "name": "python3",
      "display_name": "Python 3"
    },
    "language_info": {
      "name": "python"
    }
  },
  "cells": [
    {
      "cell_type": "markdown",
      "source": [
        "## **LISTAS DOBLEMENTE ENLAZADAS** \n",
        "\n",
        "**Definicion de la clase Receta**"
      ],
      "metadata": {
        "id": "y043pfiZpvnb"
      }
    },
    {
      "cell_type": "code",
      "execution_count": 1,
      "metadata": {
        "id": "P-J9D_IKmUrN"
      },
      "outputs": [],
      "source": [
        "class receta:\n",
        "    def __init__(self, paciente, fecha_nac, doctor, colegiado, fecha_cita, hora_cita, tipo_consulta, tratamiento):\n",
        "        self.paciente = paciente\n",
        "        self.fecha_nac = fecha_nac\n",
        "        self.doctor = doctor\n",
        "        self.colegiado = colegiado\n",
        "        self.fecha_cita = fecha_cita\n",
        "        self.hora_cita = hora_cita\n",
        "        self.tipo_consulta = tipo_consulta\n",
        "        self.tratamiento = tratamiento"
      ]
    },
    {
      "cell_type": "markdown",
      "source": [
        "**Definicion clase nodo**"
      ],
      "metadata": {
        "id": "7CTUZRh4pmAJ"
      }
    },
    {
      "cell_type": "code",
      "source": [
        "class nodo:\n",
        "    def __init__(self, receta=None, siguiente=None, anterior = None):\n",
        "        self.receta = receta\n",
        "        self.siguiente = siguiente\n",
        "        self.anterior = anterior"
      ],
      "metadata": {
        "id": "6frJ6lMWpok9"
      },
      "execution_count": 2,
      "outputs": []
    },
    {
      "cell_type": "markdown",
      "source": [
        "**Definicion de la Clase Lista Doblemente Enlazada**"
      ],
      "metadata": {
        "id": "vm3y0jrbsMLD"
      }
    },
    {
      "cell_type": "code",
      "source": [
        "class lista_doble:\n",
        "    def __init__(self):\n",
        "        self.primero = None\n",
        "        \n",
        "    def insertar(self, receta):\n",
        "      if self.primero is None:\n",
        "        self.primero = nodo(receta = receta)\n",
        "      else:\n",
        "        actual = nodo(receta=receta, siguiente=self.primero)\n",
        "        self.primero.anterior = actual\n",
        "        self.primero = actual\n",
        "\n",
        "    def recorrer(self):\n",
        "        if self.primero is None:\n",
        "            return\n",
        "        actual = self.primero \n",
        "        print(\"Paciente: \", actual.receta.paciente, \"| Fecha de nacimiento: \", actual.receta.fecha_nac, \"| Doctor: \", actual.receta.doctor, \"| Colegiado: \", actual.receta.colegiado, \"| Fecha de cita: \", actual.receta.fecha_cita, \"| Hora cita: \", actual.receta.hora_cita, \"| Tipo de consulta: \", actual.receta.tipo_consulta, \"| Tratamiento: \", actual.receta.tratamiento)\n",
        "\n",
        "        \n",
        "        while actual.siguiente:\n",
        "            actual = actual.siguiente\n",
        "            print(\"Paciente: \", actual.receta.paciente, \"| Fecha de nacimiento: \", actual.receta.fecha_nac, \"| Doctor: \", actual.receta.doctor, \"| Colegiado: \", actual.receta.colegiado, \"| Fecha de cita: \", actual.receta.fecha_cita, \"| Hora cita: \", actual.receta.hora_cita, \"| Tipo de consulta: \", actual.receta.tipo_consulta, \"| Tratamiento: \", actual.receta.tratamiento)\n",
        "\n",
        "\n",
        "    def eliminar(self, colegiado, fecha_cita, hora_cita):\n",
        "        actual = self.primero\n",
        "        while actual:\n",
        "          if actual.receta.colegiado == colegiado and actual.receta.fecha_cita == fecha_cita and actual.receta.hora_cita == hora_cita:\n",
        "            if actual.anterior:\n",
        "              if actual.siguiente:\n",
        "                actual.anterior.siguiente = actual.siguiente\n",
        "                actual.siguiente.anterior = actual.anterior\n",
        "              else:\n",
        "                actual.anterior.siguiente = None\n",
        "                actual.anterior = None\n",
        "            else:\n",
        "              if actual.siguiente:\n",
        "                self.primero = actual.siguiente \n",
        "                actual.siguiente.anterior = None\n",
        "              else:\n",
        "                self.primero = None\n",
        "            return True\n",
        "          else:\n",
        "            actual = actual.siguiente\n",
        "        return False\n",
        "                \n",
        "\n",
        "\n",
        "    #Hoja de trabajo - buscar y modificar\n",
        "    def buscar_modificar(self, paciente, fecha_cita, hora_cita):\n",
        "      actual = self.primero\n",
        "      while actual:\n",
        "        if actual.receta.paciente == paciente:\n",
        "          actual.receta.fecha_cita = fecha_cita\n",
        "          actual.receta.hora_cita = hora_cita\n",
        "          print(\"Se encontro el paciente y se modifico correctamente\")\n",
        "          print(\"Paciente: \", actual.receta.paciente, \"| Fecha de cita: \", actual.receta.fecha_cita, \"| Hora cita: \", actual.receta.hora_cita)\n",
        "          return\n",
        "        actual = actual.siguiente\n",
        "      print(\"No se encontro paciente por lo que no se modifico ningun dato\")\n"
      ],
      "metadata": {
        "id": "B6xBBfOfsRrP"
      },
      "execution_count": 25,
      "outputs": []
    },
    {
      "cell_type": "markdown",
      "source": [
        "**Creacion de objetos Receta**"
      ],
      "metadata": {
        "id": "va7lILfGuLq_"
      }
    },
    {
      "cell_type": "code",
      "source": [
        "r1 = receta(\"Gerson Lopez\", \"03-10-1990\", \"Melvin Ortiz\", 20156, \"17-01-2023\", \"11:30\", \"Medicina general\", \"2 pildroas de acetaminofen cada 6 horas\")\n",
        "r2 = receta(\"Karen Gomez\", \"08-05-2000\", \"Jorge Merida\", 8567, \"31-01-2023\", \"09:00\", \"Medicina general\", \"Tylenol de 20 ml cada 4 horas\")\n",
        "r3 = receta(\"Luis Garcia\", \"17-09-1987\", \"Melvin Ortiz\", 20156, \"02-02-2023\", \"12:00\", \"Medicina general\", \"2 cucharadas de Pepto bismol\")"
      ],
      "metadata": {
        "id": "ZpcNmWB-uMTI"
      },
      "execution_count": 26,
      "outputs": []
    },
    {
      "cell_type": "markdown",
      "source": [
        "**Insercion**"
      ],
      "metadata": {
        "id": "gcMJ7VtDuPgE"
      }
    },
    {
      "cell_type": "code",
      "source": [
        "lista_d = lista_doble()\n",
        "lista_d.insertar(r1)\n",
        "lista_d.insertar(r2)\n",
        "lista_d.insertar(r3)"
      ],
      "metadata": {
        "id": "qCpwQAt5uTNn"
      },
      "execution_count": 27,
      "outputs": []
    },
    {
      "cell_type": "markdown",
      "source": [
        "**Recorrer**"
      ],
      "metadata": {
        "id": "z4VcSNqRueCR"
      }
    },
    {
      "cell_type": "code",
      "source": [
        "lista_d.recorrer()"
      ],
      "metadata": {
        "id": "x0f-5sShueYI",
        "colab": {
          "base_uri": "https://localhost:8080/"
        },
        "outputId": "31315ca8-a88d-4968-8b3d-84f036fc0f62"
      },
      "execution_count": 28,
      "outputs": [
        {
          "output_type": "stream",
          "name": "stdout",
          "text": [
            "Paciente:  Luis Garcia | Fecha de nacimiento:  17-09-1987 | Doctor:  Melvin Ortiz | Colegiado:  20156 | Fecha de cita:  02-02-2023 | Hora cita:  12:00 | Tipo de consulta:  Medicina general | Tratamiento:  2 cucharadas de Pepto bismol\n",
            "Paciente:  Karen Gomez | Fecha de nacimiento:  08-05-2000 | Doctor:  Jorge Merida | Colegiado:  8567 | Fecha de cita:  31-01-2023 | Hora cita:  09:00 | Tipo de consulta:  Medicina general | Tratamiento:  Tylenol de 20 ml cada 4 horas\n",
            "Paciente:  Gerson Lopez | Fecha de nacimiento:  03-10-1990 | Doctor:  Melvin Ortiz | Colegiado:  20156 | Fecha de cita:  17-01-2023 | Hora cita:  11:30 | Tipo de consulta:  Medicina general | Tratamiento:  2 pildroas de acetaminofen cada 6 horas\n"
          ]
        }
      ]
    },
    {
      "cell_type": "markdown",
      "source": [
        "**Hoja buscar y modificar**"
      ],
      "metadata": {
        "id": "lcGnYJYzhr2I"
      }
    },
    {
      "cell_type": "code",
      "source": [
        "lista_d.buscar_modificar(\"Diego Perez\",\"25-12-2015\",\"19:30\")"
      ],
      "metadata": {
        "colab": {
          "base_uri": "https://localhost:8080/"
        },
        "id": "R3v5tFm3hvEE",
        "outputId": "17669882-acd6-473b-ff74-8bd3347774ef"
      },
      "execution_count": 29,
      "outputs": [
        {
          "output_type": "stream",
          "name": "stdout",
          "text": [
            "No se encontro paciente por lo que no se modifico ningun dato\n"
          ]
        }
      ]
    },
    {
      "cell_type": "code",
      "source": [
        "lista_d.buscar_modificar(\"Karen Gomez\",\"25-12-2035\",\"19:30\")"
      ],
      "metadata": {
        "colab": {
          "base_uri": "https://localhost:8080/"
        },
        "id": "XjQXy6bAiDb9",
        "outputId": "ac5f6a16-11ac-49f4-9ace-91be172210f0"
      },
      "execution_count": 30,
      "outputs": [
        {
          "output_type": "stream",
          "name": "stdout",
          "text": [
            "Se encontro el paciente y se modifico correctamente\n",
            "Paciente:  Karen Gomez | Fecha de cita:  25-12-2035 | Hora cita:  19:30\n"
          ]
        }
      ]
    },
    {
      "cell_type": "code",
      "source": [
        "lista_d.recorrer()"
      ],
      "metadata": {
        "colab": {
          "base_uri": "https://localhost:8080/"
        },
        "id": "IzWVw0AuiU7Y",
        "outputId": "09a8fceb-9798-4860-a3bd-2d5228c881c0"
      },
      "execution_count": 31,
      "outputs": [
        {
          "output_type": "stream",
          "name": "stdout",
          "text": [
            "Paciente:  Luis Garcia | Fecha de nacimiento:  17-09-1987 | Doctor:  Melvin Ortiz | Colegiado:  20156 | Fecha de cita:  02-02-2023 | Hora cita:  12:00 | Tipo de consulta:  Medicina general | Tratamiento:  2 cucharadas de Pepto bismol\n",
            "Paciente:  Karen Gomez | Fecha de nacimiento:  08-05-2000 | Doctor:  Jorge Merida | Colegiado:  8567 | Fecha de cita:  25-12-2035 | Hora cita:  19:30 | Tipo de consulta:  Medicina general | Tratamiento:  Tylenol de 20 ml cada 4 horas\n",
            "Paciente:  Gerson Lopez | Fecha de nacimiento:  03-10-1990 | Doctor:  Melvin Ortiz | Colegiado:  20156 | Fecha de cita:  17-01-2023 | Hora cita:  11:30 | Tipo de consulta:  Medicina general | Tratamiento:  2 pildroas de acetaminofen cada 6 horas\n"
          ]
        }
      ]
    }
  ]
}